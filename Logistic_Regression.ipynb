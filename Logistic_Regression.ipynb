{
  "nbformat": 4,
  "nbformat_minor": 0,
  "metadata": {
    "colab": {
      "provenance": [],
      "authorship_tag": "ABX9TyMtLK26JZZbMYUovz1HOwRu"
    },
    "kernelspec": {
      "name": "python3",
      "display_name": "Python 3"
    },
    "language_info": {
      "name": "python"
    }
  },
  "cells": [
    {
      "cell_type": "code",
      "source": [
        "import numpy as np"
      ],
      "metadata": {
        "id": "_JPb6_AjReKd"
      },
      "execution_count": 1,
      "outputs": []
    },
    {
      "cell_type": "code",
      "execution_count": null,
      "metadata": {
        "id": "zQ8604TdRVUP"
      },
      "outputs": [],
      "source": [
        "x_train = np.array([0., 1, 2, 3, 4, 5],dtype=np.longdouble)\n",
        "y_train = np.array([0,  0, 0, 1, 1, 1],dtype=np.longdouble)"
      ]
    },
    {
      "cell_type": "code",
      "source": [
        "w = np.ones((1,1))"
      ],
      "metadata": {
        "id": "eFkqtEraRX47"
      },
      "execution_count": null,
      "outputs": []
    },
    {
      "cell_type": "code",
      "source": [
        "w"
      ],
      "metadata": {
        "colab": {
          "base_uri": "https://localhost:8080/"
        },
        "id": "cKjVKBSKRdKM",
        "outputId": "ee4df99b-4d3b-464d-a489-0cbf3e0f271f"
      },
      "execution_count": null,
      "outputs": [
        {
          "output_type": "execute_result",
          "data": {
            "text/plain": [
              "array([[1.]])"
            ]
          },
          "metadata": {},
          "execution_count": 15
        }
      ]
    },
    {
      "cell_type": "code",
      "source": [
        "b = 2"
      ],
      "metadata": {
        "id": "KgU-g_YWRqcR"
      },
      "execution_count": null,
      "outputs": []
    },
    {
      "cell_type": "code",
      "source": [
        "pred = np.dot(x_train.reshape(-1,1),w) + b"
      ],
      "metadata": {
        "id": "fPGhyBLNRs9o"
      },
      "execution_count": null,
      "outputs": []
    },
    {
      "cell_type": "code",
      "source": [
        "pred"
      ],
      "metadata": {
        "colab": {
          "base_uri": "https://localhost:8080/"
        },
        "id": "HTQVBUXjRy0H",
        "outputId": "13c2b599-7a77-42dd-9958-87cbd118ac2d"
      },
      "execution_count": null,
      "outputs": [
        {
          "output_type": "execute_result",
          "data": {
            "text/plain": [
              "array([[2.],\n",
              "       [3.],\n",
              "       [4.],\n",
              "       [5.],\n",
              "       [6.],\n",
              "       [7.]], dtype=float128)"
            ]
          },
          "metadata": {},
          "execution_count": 18
        }
      ]
    },
    {
      "cell_type": "code",
      "source": [
        "class LogisticRegression:\n",
        "  def __init__(self):\n",
        "    self.w = 0\n",
        "    self.b = 0\n",
        "\n",
        "  def sigmoid(self,prediction: np.ndarray):\n",
        "    z = 1/(1+np.exp(-prediction))\n",
        "    return z\n",
        "\n",
        "  def computeCost(self, X: np.ndarray, y:np.ndarray):\n",
        "    m = X.shape[0] #no of rows of X\n",
        "    prediction = X.dot(self.w) + self.b #making prediction with weights\n",
        "    prediction = self.sigmoid(prediction) #maping the prediction to 0 or 1\n",
        "    cost = np.sum((y*np.log(prediction))+ ((1-y)*np.log(1-prediction))) #computing the losses\n",
        "    cost = (1/m) * -cost  #computing the total cost\n",
        "    return cost"
      ],
      "metadata": {
        "id": "5Yp8iMxSR5DL"
      },
      "execution_count": 41,
      "outputs": []
    },
    {
      "cell_type": "code",
      "source": [
        "X = np.array([[5],[2],[3]])\n",
        "y = np.array([[0],[1],[1]])"
      ],
      "metadata": {
        "id": "Qo8s_eZ4KNg8"
      },
      "execution_count": 35,
      "outputs": []
    },
    {
      "cell_type": "code",
      "source": [
        "lr = LogisticRegression()"
      ],
      "metadata": {
        "id": "kock0KiPMv6k"
      },
      "execution_count": 37,
      "outputs": []
    },
    {
      "cell_type": "code",
      "source": [
        "lr.computeCost(X,y)"
      ],
      "metadata": {
        "colab": {
          "base_uri": "https://localhost:8080/"
        },
        "id": "xCiZnULeNLQ0",
        "outputId": "8378c89a-a7b4-4032-fbf2-1ed85cb260da"
      },
      "execution_count": 38,
      "outputs": [
        {
          "output_type": "stream",
          "name": "stdout",
          "text": [
            "(3, 1)\n",
            "(3, 1)\n"
          ]
        },
        {
          "output_type": "execute_result",
          "data": {
            "text/plain": [
              "0.6931471805599452"
            ]
          },
          "metadata": {},
          "execution_count": 38
        }
      ]
    },
    {
      "cell_type": "code",
      "source": [],
      "metadata": {
        "id": "gtT_mLE8P6gB"
      },
      "execution_count": null,
      "outputs": []
    }
  ]
}