{
  "nbformat": 4,
  "nbformat_minor": 0,
  "metadata": {
    "colab": {
      "provenance": [],
      "authorship_tag": "ABX9TyN6qqxR9ajDI0XOhTLPLaSv"
    },
    "kernelspec": {
      "name": "python3",
      "display_name": "Python 3"
    },
    "language_info": {
      "name": "python"
    }
  },
  "cells": [
    {
      "cell_type": "code",
      "source": [
        "import numpy as np"
      ],
      "metadata": {
        "id": "_JPb6_AjReKd"
      },
      "execution_count": 1,
      "outputs": []
    },
    {
      "cell_type": "code",
      "execution_count": null,
      "metadata": {
        "id": "zQ8604TdRVUP"
      },
      "outputs": [],
      "source": [
        "x_train = np.array([0., 1, 2, 3, 4, 5],dtype=np.longdouble)\n",
        "y_train = np.array([0,  0, 0, 1, 1, 1],dtype=np.longdouble)"
      ]
    },
    {
      "cell_type": "code",
      "source": [
        "w = np.ones((1,1))"
      ],
      "metadata": {
        "id": "eFkqtEraRX47"
      },
      "execution_count": null,
      "outputs": []
    },
    {
      "cell_type": "code",
      "source": [
        "w"
      ],
      "metadata": {
        "colab": {
          "base_uri": "https://localhost:8080/"
        },
        "id": "cKjVKBSKRdKM",
        "outputId": "ee4df99b-4d3b-464d-a489-0cbf3e0f271f"
      },
      "execution_count": null,
      "outputs": [
        {
          "output_type": "execute_result",
          "data": {
            "text/plain": [
              "array([[1.]])"
            ]
          },
          "metadata": {},
          "execution_count": 15
        }
      ]
    },
    {
      "cell_type": "code",
      "source": [
        "b = 2"
      ],
      "metadata": {
        "id": "KgU-g_YWRqcR"
      },
      "execution_count": null,
      "outputs": []
    },
    {
      "cell_type": "code",
      "source": [
        "pred = np.dot(x_train.reshape(-1,1),w) + b"
      ],
      "metadata": {
        "id": "fPGhyBLNRs9o"
      },
      "execution_count": null,
      "outputs": []
    },
    {
      "cell_type": "code",
      "source": [
        "pred"
      ],
      "metadata": {
        "colab": {
          "base_uri": "https://localhost:8080/"
        },
        "id": "HTQVBUXjRy0H",
        "outputId": "13c2b599-7a77-42dd-9958-87cbd118ac2d"
      },
      "execution_count": null,
      "outputs": [
        {
          "output_type": "execute_result",
          "data": {
            "text/plain": [
              "array([[2.],\n",
              "       [3.],\n",
              "       [4.],\n",
              "       [5.],\n",
              "       [6.],\n",
              "       [7.]], dtype=float128)"
            ]
          },
          "metadata": {},
          "execution_count": 18
        }
      ]
    },
    {
      "cell_type": "code",
      "source": [
        "class LogisticRegression:\n",
        "  def __init__(self):\n",
        "    self.w = 0\n",
        "    self.b = 0\n",
        "\n",
        "  def predict(self, X: np.ndarray):\n",
        "    return self.sigmoid(X.dot(self.w) + self.b)\n",
        "\n",
        "  def sigmoid(self,prediction: np.ndarray):\n",
        "    z = 1/(1+np.exp(-prediction))\n",
        "    return z\n",
        "\n",
        "  def computeCost(self, X: np.ndarray, y:np.ndarray):\n",
        "    m = X.shape[0] #no of rows of X\n",
        "    prediction = X.dot(self.w) + self.b #making prediction with weights\n",
        "    prediction = self.sigmoid(prediction) #maping the prediction to 0 or 1\n",
        "    cost = np.sum((y*np.log(prediction))+ ((1-y)*np.log(1-prediction))) #computing the losses\n",
        "class LogisticRegression:\n",
        "  def __init__(self):\n",
        "    self.w = 0\n",
        "    self.b = 0\n",
        "\n",
        "  def predict(self, X: np.ndarray):\n",
        "    return self.sigmoid(X.dot(self.w) + self.b)\n",
        "\n",
        "  def sigmoid(self,prediction: np.ndarray):\n",
        "    z = 1/(1+np.exp(-prediction))\n",
        "    return z\n",
        "\n",
        "  def computeCost(self, X: np.ndarray, y:np.ndarray):\n",
        "    m = X.shape[0] #no of rows of X\n",
        "    prediction = X.dot(self.w) + self.b #making prediction with weights\n",
        "    prediction = self.sigmoid(prediction) #maping the prediction to 0 or 1\n",
        "    cost = np.sum((y*np.log(prediction))+ ((1-y)*np.log(1-prediction))) #computing the losses\n",
        "    cost = (1/m) * -cost  #computing the total cost\n",
        "    return cost\n",
        "\n",
        "  def fit(self, X: np.ndarray, y:np.ndarray, alpha:int, epochs: int):\n",
        "    y = y.reshape(-1,1)\n",
        "    m = X.shape[1]\n",
        "    self.w = np.zeros((m,1))\n",
        "\n",
        "    for i in range(epochs):\n",
        "      cost = self.computeCost(X,y)\n",
        "      if i%100 ==0:\n",
        "        print(f\"Epoch: {i+1}, Loss: {cost}\")\n",
        "      prediction = self.predict(X)\n",
        "      error = prediction - y\n",
        "      gradient = np.dot(X.transpose(),error)\n",
        "      self.w -= alpha * 1/m * gradient\n",
        "      self.b -= alpha * 1/m * np.sum(error) \n",
        "\n",
        "    return (self.w,self.b)\n",
        "\n",
        "  def fit(self, X: np.ndarray, y:np.ndarray, alpha:int, epochs: int):\n",
        "    y = y.reshape(-1,1)\n",
        "    m = X.shape[1]\n",
        "    self.w = np.zeros((m,1))\n",
        "\n",
        "    for i in range(epochs):\n",
        "      cost = self.computeCost(X,y)\n",
        "      if i%100 ==0:\n",
        "        print(f\"Epoch: {i+1}, Loss: {cost}\")\n",
        "      prediction = self.predict(X)\n",
        "      error = prediction - y\n",
        "      gradient = np.dot(X.transpose(),error)\n",
        "      self.w -= alpha * 1/m * gradient\n",
        "      self.b -= alpha * 1/m * np.sum(error) \n",
        "\n",
        "    return (self.w,self.b)"
      ],
      "metadata": {
        "id": "5Yp8iMxSR5DL"
      },
      "execution_count": 91,
      "outputs": []
    },
    {
      "cell_type": "code",
      "source": [
        "X = np.array([[5],[2],[3]])\n",
        "y = np.array([[0],[1],[1]])"
      ],
      "metadata": {
        "id": "Qo8s_eZ4KNg8"
      },
      "execution_count": 35,
      "outputs": []
    },
    {
      "cell_type": "code",
      "source": [
        "lr = LogisticRegression()"
      ],
      "metadata": {
        "id": "kock0KiPMv6k"
      },
      "execution_count": 45,
      "outputs": []
    },
    {
      "cell_type": "code",
      "source": [
        "lr.fit(X,y,1e-7,1000)"
      ],
      "metadata": {
        "id": "xCiZnULeNLQ0"
      },
      "execution_count": null,
      "outputs": []
    },
    {
      "cell_type": "code",
      "source": [
        "from sklearn.datasets import make_classification"
      ],
      "metadata": {
        "id": "NkTF2svfAxPl"
      },
      "execution_count": 60,
      "outputs": []
    },
    {
      "cell_type": "code",
      "source": [
        "X,y = make_classification(n_features=4)"
      ],
      "metadata": {
        "id": "1521J6B5CSjj"
      },
      "execution_count": 115,
      "outputs": []
    },
    {
      "cell_type": "code",
      "source": [
        "X = X[:, 2:3]"
      ],
      "metadata": {
        "id": "A0Ccos-lDPqO"
      },
      "execution_count": 116,
      "outputs": []
    },
    {
      "cell_type": "code",
      "source": [
        "y"
      ],
      "metadata": {
        "colab": {
          "base_uri": "https://localhost:8080/"
        },
        "id": "x0FhNLovCgY0",
        "outputId": "81f24636-992e-42c2-d6c6-d95d6a92b95a"
      },
      "execution_count": 100,
      "outputs": [
        {
          "output_type": "execute_result",
          "data": {
            "text/plain": [
              "array([0, 0, 1, 0, 0, 0, 0, 0, 0, 1, 0, 1, 0, 0, 1, 0, 0, 1, 1, 0, 0, 0,\n",
              "       0, 0, 0, 1, 1, 1, 1, 0, 0, 1, 1, 0, 1, 1, 1, 1, 1, 1, 0, 1, 1, 0,\n",
              "       0, 0, 1, 0, 1, 0, 0, 1, 0, 0, 1, 1, 0, 1, 1, 0, 1, 1, 0, 0, 0, 0,\n",
              "       0, 1, 1, 1, 1, 0, 0, 0, 0, 1, 1, 1, 1, 0, 0, 0, 0, 0, 1, 1, 1, 1,\n",
              "       1, 1, 0, 0, 1, 1, 0, 1, 0, 1, 1, 1])"
            ]
          },
          "metadata": {},
          "execution_count": 100
        }
      ]
    },
    {
      "cell_type": "code",
      "source": [
        "X.shape"
      ],
      "metadata": {
        "colab": {
          "base_uri": "https://localhost:8080/"
        },
        "id": "CRYyAnYvCyYm",
        "outputId": "c95fbf95-829d-4864-bf9b-b3cc02af92d3"
      },
      "execution_count": 117,
      "outputs": [
        {
          "output_type": "execute_result",
          "data": {
            "text/plain": [
              "(100, 1)"
            ]
          },
          "metadata": {},
          "execution_count": 117
        }
      ]
    },
    {
      "cell_type": "code",
      "source": [
        "y.shape"
      ],
      "metadata": {
        "colab": {
          "base_uri": "https://localhost:8080/"
        },
        "id": "RWkVH2zNDhIf",
        "outputId": "f17cb446-0d27-41db-808f-e937f748fb2e"
      },
      "execution_count": 118,
      "outputs": [
        {
          "output_type": "execute_result",
          "data": {
            "text/plain": [
              "(100,)"
            ]
          },
          "metadata": {},
          "execution_count": 118
        }
      ]
    },
    {
      "cell_type": "code",
      "source": [
        "import matplotlib.pyplot as plt\n",
        "\n",
        "# Assuming X and y are NumPy arrays with shape (100,) for X and (100,) for y\n",
        "# respectively\n",
        "\n",
        "# Separate the data points based on the class label\n",
        "class_0 = X[y == 0]\n",
        "class_1 = X[y == 1]\n",
        "\n",
        "# Generate y-values for the scatter plot\n",
        "y_0 = [0] * len(class_0)\n",
        "y_1 = [1] * len(class_1)\n",
        "\n",
        "# Plot the scatter plot\n",
        "plt.scatter(class_0, y_0, c='red', label='Class 0')\n",
        "plt.scatter(class_1, y_1, c='blue', label='Class 1')\n",
        "\n",
        "# Add labels and legend\n",
        "plt.xlabel('Feature')\n",
        "plt.yticks([0, 1], ['Class 0', 'Class 1'])\n",
        "plt.legend()\n",
        "\n",
        "# Show the plot\n",
        "plt.show()"
      ],
      "metadata": {
        "colab": {
          "base_uri": "https://localhost:8080/",
          "height": 449
        },
        "id": "bBdct7x2DhuF",
        "outputId": "58777026-f860-47d7-c60d-ffebeae8e987"
      },
      "execution_count": 119,
      "outputs": [
        {
          "output_type": "display_data",
          "data": {
            "text/plain": [
              "<Figure size 640x480 with 1 Axes>"
            ],
            "image/png": "[encoded data removed]"
          },
          "metadata": {}
        }
      ]
    },
    {
      "cell_type": "code",
      "source": [
        "model = LogisticRegression()"
      ],
      "metadata": {
        "id": "7Y3HyKPgERLx"
      },
      "execution_count": 120,
      "outputs": []
    },
    {
      "cell_type": "code",
      "source": [
        "parameters = model.fit(X,y,1e-7,10000)"
      ],
      "metadata": {
        "colab": {
          "base_uri": "https://localhost:8080/"
        },
        "id": "4TiIUW5QEdtb",
        "outputId": "8f8a3039-9c83-4663-f1b2-4f46277a91e8"
      },
      "execution_count": 121,
      "outputs": [
        {
          "output_type": "stream",
          "name": "stdout",
          "text": [
            "Epoch: 1, Loss: 0.6931471805599453\n",
            "Epoch: 101, Loss: 0.6931444551020954\n",
            "Epoch: 201, Loss: 0.6931417299473286\n",
            "Epoch: 301, Loss: 0.6931390050956086\n",
            "Epoch: 401, Loss: 0.6931362805469002\n",
            "Epoch: 501, Loss: 0.6931335563011689\n",
            "Epoch: 601, Loss: 0.6931308323583787\n",
            "Epoch: 701, Loss: 0.693128108718495\n",
            "Epoch: 801, Loss: 0.6931253853814817\n",
            "Epoch: 901, Loss: 0.6931226623473044\n",
            "Epoch: 1001, Loss: 0.6931199396159273\n",
            "Epoch: 1101, Loss: 0.6931172171873149\n",
            "Epoch: 1201, Loss: 0.6931144950614331\n",
            "Epoch: 1301, Loss: 0.6931117732382454\n",
            "Epoch: 1401, Loss: 0.6931090517177171\n",
            "Epoch: 1501, Loss: 0.6931063304998134\n",
            "Epoch: 1601, Loss: 0.6931036095844983\n",
            "Epoch: 1701, Loss: 0.693100888971737\n",
            "Epoch: 1801, Loss: 0.6930981686614942\n",
            "Epoch: 1901, Loss: 0.6930954486537344\n",
            "Epoch: 2001, Loss: 0.693092728948423\n",
            "Epoch: 2101, Loss: 0.6930900095455244\n",
            "Epoch: 2201, Loss: 0.6930872904450037\n",
            "Epoch: 2301, Loss: 0.6930845716468254\n",
            "Epoch: 2401, Loss: 0.6930818531509542\n",
            "Epoch: 2501, Loss: 0.6930791349573551\n",
            "Epoch: 2601, Loss: 0.6930764170659935\n",
            "Epoch: 2701, Loss: 0.6930736994768334\n",
            "Epoch: 2801, Loss: 0.6930709821898399\n",
            "Epoch: 2901, Loss: 0.6930682652049778\n",
            "Epoch: 3001, Loss: 0.6930655485222121\n",
            "Epoch: 3101, Loss: 0.6930628321415074\n",
            "Epoch: 3201, Loss: 0.6930601160628288\n",
            "Epoch: 3301, Loss: 0.6930574002861412\n",
            "Epoch: 3401, Loss: 0.6930546848114091\n",
            "Epoch: 3501, Loss: 0.6930519696385976\n",
            "Epoch: 3601, Loss: 0.6930492547676715\n",
            "Epoch: 3701, Loss: 0.693046540198596\n",
            "Epoch: 3801, Loss: 0.6930438259313354\n",
            "Epoch: 3901, Loss: 0.6930411119658549\n",
            "Epoch: 4001, Loss: 0.6930383983021194\n",
            "Epoch: 4101, Loss: 0.6930356849400939\n",
            "Epoch: 4201, Loss: 0.6930329718797431\n",
            "Epoch: 4301, Loss: 0.6930302591210321\n",
            "Epoch: 4401, Loss: 0.6930275466639256\n",
            "Epoch: 4501, Loss: 0.6930248345083884\n",
            "Epoch: 4601, Loss: 0.6930221226543857\n",
            "Epoch: 4701, Loss: 0.6930194111018824\n",
            "Epoch: 4801, Loss: 0.6930166998508434\n",
            "Epoch: 4901, Loss: 0.6930139889012332\n",
            "Epoch: 5001, Loss: 0.6930112782530172\n",
            "Epoch: 5101, Loss: 0.6930085679061605\n",
            "Epoch: 5201, Loss: 0.6930058578606277\n",
            "Epoch: 5301, Loss: 0.6930031481163836\n",
            "Epoch: 5401, Loss: 0.6930004386733936\n",
            "Epoch: 5501, Loss: 0.6929977295316225\n",
            "Epoch: 5601, Loss: 0.6929950206910351\n",
            "Epoch: 5701, Loss: 0.6929923121515964\n",
            "Epoch: 5801, Loss: 0.6929896039132711\n",
            "Epoch: 5901, Loss: 0.6929868959760251\n",
            "Epoch: 6001, Loss: 0.6929841883398227\n",
            "Epoch: 6101, Loss: 0.6929814810046286\n",
            "Epoch: 6201, Loss: 0.6929787739704085\n",
            "Epoch: 6301, Loss: 0.692976067237127\n",
            "Epoch: 6401, Loss: 0.6929733608047492\n",
            "Epoch: 6501, Loss: 0.6929706546732399\n",
            "Epoch: 6601, Loss: 0.6929679488425642\n",
            "Epoch: 6701, Loss: 0.6929652433126874\n",
            "Epoch: 6801, Loss: 0.6929625380835743\n",
            "Epoch: 6901, Loss: 0.6929598331551897\n",
            "Epoch: 7001, Loss: 0.6929571285274989\n",
            "Epoch: 7101, Loss: 0.6929544242004669\n",
            "Epoch: 7201, Loss: 0.6929517201740588\n",
            "Epoch: 7301, Loss: 0.6929490164482391\n",
            "Epoch: 7401, Loss: 0.6929463130229737\n",
            "Epoch: 7501, Loss: 0.6929436098982272\n",
            "Epoch: 7601, Loss: 0.6929409070739648\n",
            "Epoch: 7701, Loss: 0.6929382045501511\n",
            "Epoch: 7801, Loss: 0.6929355023267517\n",
            "Epoch: 7901, Loss: 0.6929328004037312\n",
            "Epoch: 8001, Loss: 0.6929300987810553\n",
            "Epoch: 8101, Loss: 0.6929273974586886\n",
            "Epoch: 8201, Loss: 0.6929246964365963\n",
            "Epoch: 8301, Loss: 0.6929219957147434\n",
            "Epoch: 8401, Loss: 0.692919295293095\n",
            "Epoch: 8501, Loss: 0.6929165951716165\n",
            "Epoch: 8601, Loss: 0.6929138953502727\n",
            "Epoch: 8701, Loss: 0.6929111958290285\n",
            "Epoch: 8801, Loss: 0.6929084966078496\n",
            "Epoch: 8901, Loss: 0.6929057976867006\n",
            "Epoch: 9001, Loss: 0.6929030990655467\n",
            "Epoch: 9101, Loss: 0.6929004007443534\n",
            "Epoch: 9201, Loss: 0.6928977027230855\n",
            "Epoch: 9301, Loss: 0.6928950050017081\n",
            "Epoch: 9401, Loss: 0.6928923075801864\n",
            "Epoch: 9501, Loss: 0.6928896104584855\n",
            "Epoch: 9601, Loss: 0.6928869136365705\n",
            "Epoch: 9701, Loss: 0.6928842171144067\n",
            "Epoch: 9801, Loss: 0.6928815208919593\n",
            "Epoch: 9901, Loss: 0.6928788249691933\n"
          ]
        }
      ]
    },
    {
      "cell_type": "code",
      "source": [
        "parameters"
      ],
      "metadata": {
        "colab": {
          "base_uri": "https://localhost:8080/"
        },
        "id": "jk4deAxzEkLf",
        "outputId": "4b99c8ff-f3a5-4059-80cb-85b66f63d61f"
      },
      "execution_count": 122,
      "outputs": [
        {
          "output_type": "execute_result",
          "data": {
            "text/plain": [
              "(array([[0.00520625]]), -3.110456017703586e-06)"
            ]
          },
          "metadata": {},
          "execution_count": 122
        }
      ]
    },
    {
      "cell_type": "code",
      "source": [
        "import numpy as np\n",
        "import matplotlib.pyplot as plt\n",
        "\n",
        "# Assuming the parameters for logistic regression are provided as:\n",
        "coefficients = parameters[0]\n",
        "intercept = parameters[1]\n",
        "\n",
        "# Generate x values for the line\n",
        "x_line = X\n",
        "\n",
        "# Calculate corresponding y values for the line using the logistic regression equation\n",
        "y_line = predictions\n",
        "\n",
        "# Separate the data points based on the class label\n",
        "class_0 = X[y == 0]\n",
        "class_1 = X[y == 1]\n",
        "\n",
        "# Plot the scatter plot\n",
        "plt.scatter(class_0, np.zeros_like(class_0), c='red', label='Class 0')\n",
        "plt.scatter(class_1, np.zeros_like(class_1), c='blue', label='Class 1')\n",
        "\n",
        "# Plot the decision boundary line\n",
        "plt.plot(x_line, y_line, c='black', label='Decision Boundary')\n",
        "\n",
        "# Add labels and legend\n",
        "plt.xlabel('Feature')\n",
        "plt.legend()\n",
        "\n",
        "# Show the plot\n",
        "plt.show()\n"
      ],
      "metadata": {
        "colab": {
          "base_uri": "https://localhost:8080/",
          "height": 449
        },
        "id": "IijVTQP-E6be",
        "outputId": "74a69381-cd8b-42b2-a585-6bc7663ebca5"
      },
      "execution_count": 130,
      "outputs": [
        {
          "output_type": "display_data",
          "data": {
            "text/plain": [
              "<Figure size 640x480 with 1 Axes>"
            ],
            "image/png": "[encoded data removed]"
          },
          "metadata": {}
        }
      ]
    },
    {
      "cell_type": "code",
      "source": [
        "predictions = model.predict(x_line)"
      ],
      "metadata": {
        "id": "pLr7jRF-FPV-"
      },
      "execution_count": 128,
      "outputs": []
    },
    {
      "cell_type": "code",
      "source": [
        "threshold = 0.5  # Set the threshold value\n",
        "\n",
        "# Map the predicted probabilities to binary class labels\n",
        "predictions = np.where(predictions >= threshold, 1, 0)\n",
        "\n",
        "# Print the mapped predictions\n",
        "print(predictions)"
      ],
      "metadata": {
        "colab": {
          "base_uri": "https://localhost:8080/"
        },
        "id": "qvvSAG-sIoXK",
        "outputId": "8388f1dc-c654-45b2-82d8-7ae1940265ad"
      },
      "execution_count": 129,
      "outputs": [
        {
          "output_type": "stream",
          "name": "stdout",
          "text": [
            "[[0]\n",
            " [1]\n",
            " [1]\n",
            " [1]\n",
            " [1]\n",
            " [1]\n",
            " [0]\n",
            " [0]\n",
            " [0]\n",
            " [0]\n",
            " [0]\n",
            " [1]\n",
            " [1]\n",
            " [0]\n",
            " [0]\n",
            " [1]\n",
            " [1]\n",
            " [0]\n",
            " [0]\n",
            " [0]\n",
            " [0]\n",
            " [0]\n",
            " [0]\n",
            " [0]\n",
            " [1]\n",
            " [1]\n",
            " [1]\n",
            " [1]\n",
            " [1]\n",
            " [0]\n",
            " [1]\n",
            " [1]\n",
            " [1]\n",
            " [1]\n",
            " [1]\n",
            " [0]\n",
            " [1]\n",
            " [0]\n",
            " [1]\n",
            " [0]\n",
            " [1]\n",
            " [0]\n",
            " [1]\n",
            " [0]\n",
            " [0]\n",
            " [1]\n",
            " [0]\n",
            " [1]\n",
            " [1]\n",
            " [1]\n",
            " [1]\n",
            " [1]\n",
            " [0]\n",
            " [0]\n",
            " [0]\n",
            " [1]\n",
            " [0]\n",
            " [0]\n",
            " [1]\n",
            " [0]\n",
            " [1]\n",
            " [1]\n",
            " [0]\n",
            " [0]\n",
            " [1]\n",
            " [1]\n",
            " [0]\n",
            " [1]\n",
            " [1]\n",
            " [1]\n",
            " [1]\n",
            " [0]\n",
            " [1]\n",
            " [0]\n",
            " [1]\n",
            " [1]\n",
            " [1]\n",
            " [1]\n",
            " [0]\n",
            " [1]\n",
            " [1]\n",
            " [0]\n",
            " [1]\n",
            " [1]\n",
            " [0]\n",
            " [0]\n",
            " [0]\n",
            " [1]\n",
            " [0]\n",
            " [0]\n",
            " [0]\n",
            " [0]\n",
            " [0]\n",
            " [0]\n",
            " [1]\n",
            " [1]\n",
            " [1]\n",
            " [0]\n",
            " [0]\n",
            " [0]]\n"
          ]
        }
      ]
    },
    {
      "cell_type": "code",
      "source": [],
      "metadata": {
        "id": "cV4T5xGSJBwR"
      },
      "execution_count": null,
      "outputs": []
    }
  ]
}